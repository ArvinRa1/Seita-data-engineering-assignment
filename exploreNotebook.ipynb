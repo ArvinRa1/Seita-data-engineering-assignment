{
 "cells": [
  {
   "cell_type": "code",
   "execution_count": 213,
   "metadata": {
    "collapsed": true
   },
   "outputs": [],
   "source": [
    "import pandas as pd\n",
    "from datetime import datetime, timedelta\n",
    "import numpy as np\n",
    "import time"
   ]
  },
  {
   "cell_type": "code",
   "execution_count": 214,
   "outputs": [],
   "source": [
    "df = pd.read_csv(\"weather.csv\")"
   ],
   "metadata": {
    "collapsed": false
   }
  },
  {
   "cell_type": "code",
   "execution_count": 215,
   "outputs": [
    {
     "name": "stdout",
     "output_type": "stream",
     "text": [
      "['temperature' 'irradiance' 'wind speed']\n"
     ]
    },
    {
     "data": {
      "text/plain": "              event_start  belief_horizon_in_sec  event_value       sensor  \\\n0  2020-11-01 00:00:00+00                   -637        11.36  temperature   \n1  2020-11-01 00:00:00+00                  35362        11.06  temperature   \n2  2020-11-01 00:00:00+00                  38960        11.41  temperature   \n3  2020-11-01 00:00:00+00                  28162        11.25  temperature   \n4  2020-11-01 00:00:00+00                   2969        11.39  temperature   \n\n  unit  \n0   °C  \n1   °C  \n2   °C  \n3   °C  \n4   °C  ",
      "text/html": "<div>\n<style scoped>\n    .dataframe tbody tr th:only-of-type {\n        vertical-align: middle;\n    }\n\n    .dataframe tbody tr th {\n        vertical-align: top;\n    }\n\n    .dataframe thead th {\n        text-align: right;\n    }\n</style>\n<table border=\"1\" class=\"dataframe\">\n  <thead>\n    <tr style=\"text-align: right;\">\n      <th></th>\n      <th>event_start</th>\n      <th>belief_horizon_in_sec</th>\n      <th>event_value</th>\n      <th>sensor</th>\n      <th>unit</th>\n    </tr>\n  </thead>\n  <tbody>\n    <tr>\n      <th>0</th>\n      <td>2020-11-01 00:00:00+00</td>\n      <td>-637</td>\n      <td>11.36</td>\n      <td>temperature</td>\n      <td>°C</td>\n    </tr>\n    <tr>\n      <th>1</th>\n      <td>2020-11-01 00:00:00+00</td>\n      <td>35362</td>\n      <td>11.06</td>\n      <td>temperature</td>\n      <td>°C</td>\n    </tr>\n    <tr>\n      <th>2</th>\n      <td>2020-11-01 00:00:00+00</td>\n      <td>38960</td>\n      <td>11.41</td>\n      <td>temperature</td>\n      <td>°C</td>\n    </tr>\n    <tr>\n      <th>3</th>\n      <td>2020-11-01 00:00:00+00</td>\n      <td>28162</td>\n      <td>11.25</td>\n      <td>temperature</td>\n      <td>°C</td>\n    </tr>\n    <tr>\n      <th>4</th>\n      <td>2020-11-01 00:00:00+00</td>\n      <td>2969</td>\n      <td>11.39</td>\n      <td>temperature</td>\n      <td>°C</td>\n    </tr>\n  </tbody>\n</table>\n</div>"
     },
     "execution_count": 215,
     "metadata": {},
     "output_type": "execute_result"
    }
   ],
   "source": [
    "print(df.sensor.unique())\n",
    "df.head()"
   ],
   "metadata": {
    "collapsed": false
   }
  },
  {
   "cell_type": "code",
   "execution_count": 216,
   "outputs": [
    {
     "data": {
      "text/plain": "       belief_horizon_in_sec   event_value\ncount           1.184860e+06  1.184860e+06\nmean            7.922316e+04  5.341262e+01\nstd             5.235308e+04  1.330435e+02\nmin            -3.240000e+03 -8.970000e+00\n25%             3.210000e+04  2.630000e+00\n50%             7.536000e+04  7.170000e+00\n75%             1.257000e+05  1.972000e+01\nmax             1.725470e+05  8.446301e+02",
      "text/html": "<div>\n<style scoped>\n    .dataframe tbody tr th:only-of-type {\n        vertical-align: middle;\n    }\n\n    .dataframe tbody tr th {\n        vertical-align: top;\n    }\n\n    .dataframe thead th {\n        text-align: right;\n    }\n</style>\n<table border=\"1\" class=\"dataframe\">\n  <thead>\n    <tr style=\"text-align: right;\">\n      <th></th>\n      <th>belief_horizon_in_sec</th>\n      <th>event_value</th>\n    </tr>\n  </thead>\n  <tbody>\n    <tr>\n      <th>count</th>\n      <td>1.184860e+06</td>\n      <td>1.184860e+06</td>\n    </tr>\n    <tr>\n      <th>mean</th>\n      <td>7.922316e+04</td>\n      <td>5.341262e+01</td>\n    </tr>\n    <tr>\n      <th>std</th>\n      <td>5.235308e+04</td>\n      <td>1.330435e+02</td>\n    </tr>\n    <tr>\n      <th>min</th>\n      <td>-3.240000e+03</td>\n      <td>-8.970000e+00</td>\n    </tr>\n    <tr>\n      <th>25%</th>\n      <td>3.210000e+04</td>\n      <td>2.630000e+00</td>\n    </tr>\n    <tr>\n      <th>50%</th>\n      <td>7.536000e+04</td>\n      <td>7.170000e+00</td>\n    </tr>\n    <tr>\n      <th>75%</th>\n      <td>1.257000e+05</td>\n      <td>1.972000e+01</td>\n    </tr>\n    <tr>\n      <th>max</th>\n      <td>1.725470e+05</td>\n      <td>8.446301e+02</td>\n    </tr>\n  </tbody>\n</table>\n</div>"
     },
     "execution_count": 216,
     "metadata": {},
     "output_type": "execute_result"
    }
   ],
   "source": [
    "df.describe()"
   ],
   "metadata": {
    "collapsed": false
   }
  },
  {
   "cell_type": "code",
   "execution_count": 217,
   "outputs": [
    {
     "data": {
      "text/plain": "0"
     },
     "execution_count": 217,
     "metadata": {},
     "output_type": "execute_result"
    }
   ],
   "source": [
    "df.isnull().sum().sum()  # No null values"
   ],
   "metadata": {
    "collapsed": false
   }
  },
  {
   "cell_type": "code",
   "execution_count": 218,
   "outputs": [],
   "source": [
    "dfIr = df.loc[df[\"sensor\"] == \"irradiance\"]\n",
    "dfTem = df.loc[df[\"sensor\"] == \"temperature\"]\n",
    "dfWind = df.loc[df[\"sensor\"] == \"wind speed\"]"
   ],
   "metadata": {
    "collapsed": false
   }
  },
  {
   "cell_type": "code",
   "execution_count": 219,
   "outputs": [
    {
     "data": {
      "text/plain": "0          2020-11-01 00:00:00+00\n1          2020-11-01 00:00:00+00\n2          2020-11-01 00:00:00+00\n3          2020-11-01 00:00:00+00\n4          2020-11-01 00:00:00+00\n                    ...          \n1184855    2022-09-16 16:00:00+00\n1184856    2022-09-16 16:00:00+00\n1184857    2022-09-16 17:00:00+00\n1184858    2022-09-16 17:00:00+00\n1184859    2022-09-16 18:00:00+00\nName: event_start, Length: 1184860, dtype: object"
     },
     "execution_count": 219,
     "metadata": {},
     "output_type": "execute_result"
    }
   ],
   "source": [
    "type(df.event_start.values)\n",
    "df.event_start"
   ],
   "metadata": {
    "collapsed": false
   }
  },
  {
   "cell_type": "code",
   "execution_count": 220,
   "outputs": [],
   "source": [
    "df.event_start = pd.to_datetime(df.event_start).dt.tz_localize(None)"
   ],
   "metadata": {
    "collapsed": false
   }
  },
  {
   "cell_type": "code",
   "execution_count": 221,
   "outputs": [
    {
     "data": {
      "text/plain": "0            -637\n1           35362\n2           38960\n3           28162\n4            2969\n            ...  \n1184855    172540\n1184856    165342\n1184857    172539\n1184858    168942\n1184859    172542\nName: belief_horizon_in_sec, Length: 1184860, dtype: int64"
     },
     "execution_count": 221,
     "metadata": {},
     "output_type": "execute_result"
    }
   ],
   "source": [
    "df.belief_horizon_in_sec"
   ],
   "metadata": {
    "collapsed": false
   }
  },
  {
   "cell_type": "code",
   "execution_count": 222,
   "outputs": [],
   "source": [
    "# for i, k in enumerate(df.belief_horizon_in_sec):\n",
    "#     # print(i, k)\n",
    "df.belief_horizon_in_sec = pd.to_timedelta(df.belief_horizon_in_sec, unit='s')"
   ],
   "metadata": {
    "collapsed": false
   }
  },
  {
   "cell_type": "code",
   "execution_count": 223,
   "outputs": [
    {
     "data": {
      "text/plain": "0         -1 days +23:49:23\n1           0 days 09:49:22\n2           0 days 10:49:20\n3           0 days 07:49:22\n4           0 days 00:49:29\n                 ...       \n1184855     1 days 23:55:40\n1184856     1 days 21:55:42\n1184857     1 days 23:55:39\n1184858     1 days 22:55:42\n1184859     1 days 23:55:42\nName: belief_horizon_in_sec, Length: 1184860, dtype: timedelta64[ns]"
     },
     "execution_count": 223,
     "metadata": {},
     "output_type": "execute_result"
    }
   ],
   "source": [
    "df.belief_horizon_in_sec"
   ],
   "metadata": {
    "collapsed": false
   }
  },
  {
   "cell_type": "code",
   "execution_count": 224,
   "outputs": [],
   "source": [
    "df.belief_horizon_in_sec = df[\"event_start\"] + df[\"belief_horizon_in_sec\"]"
   ],
   "metadata": {
    "collapsed": false
   }
  },
  {
   "cell_type": "code",
   "execution_count": 225,
   "outputs": [
    {
     "data": {
      "text/plain": "0         2020-10-31 23:49:23\n1         2020-11-01 09:49:22\n2         2020-11-01 10:49:20\n3         2020-11-01 07:49:22\n4         2020-11-01 00:49:29\n                  ...        \n1184855   2022-09-18 15:55:40\n1184856   2022-09-18 13:55:42\n1184857   2022-09-18 16:55:39\n1184858   2022-09-18 15:55:42\n1184859   2022-09-18 17:55:42\nName: belief_horizon_in_sec, Length: 1184860, dtype: datetime64[ns]"
     },
     "execution_count": 225,
     "metadata": {},
     "output_type": "execute_result"
    }
   ],
   "source": [
    "df.belief_horizon_in_sec"
   ],
   "metadata": {
    "collapsed": false
   }
  },
  {
   "cell_type": "code",
   "execution_count": 226,
   "outputs": [],
   "source": [
    "# datetime_str = '09/19/22 13:55:26'\n",
    "# datetime_object = datetime.strptime(\"2020/11/02 10:33:33\", '%Y/%m/%d %H:%M:%S')\n",
    "# print(datetime_object)\n",
    "# datenow = datetime.strptime(\"20201102\", '%y/%m/%d %H:%M:%S')\n",
    "#  \"%y/%m/%d %H:%M:%S\"\n",
    "datenow = \"2020-11-02 10:00:00\"\n",
    "# datenow = datetime.strptime(datenow, '%Y-%m-%d %H:%M:%S')\n",
    "# nowSlice = df.loc[(df.event_start <= datenow)]\n",
    "# nowSlice"
   ],
   "metadata": {
    "collapsed": false
   }
  },
  {
   "cell_type": "code",
   "execution_count": 227,
   "outputs": [],
   "source": [
    "# bufdate = timedelta(hours=1)\n",
    "# print(bufdate)\n",
    "# datethen = \"2020/11/03 10:00:00\"\n",
    "# datethen = datetime.strptime(datethen, '%Y/%m/%d %H:%M:%S')\n",
    "#\n",
    "# def datetime_range(start):\n",
    "#     end = timedelta(hours=1)\n",
    "#     end = start + end\n",
    "#     delta = timedelta(minutes=1)\n",
    "#     current = start\n",
    "#     while current < end:\n",
    "#         yield current\n",
    "#         current += delta\n",
    "\n",
    "datethen = \"2020-11-02 11:49:21\"\n",
    "# datethen = datetime.strptime(datethen, '%Y-%m-%d %H:%M:%S')\n",
    "# # print(bufdate)\n",
    "# # print(dates)\n",
    "#\n",
    "# thenSlice = nowSlice.loc[nowSlice.belief_horizon_in_sec == datethen]\n",
    "# print(\"Here\",thenSlice)\n",
    "#\n",
    "# if thenSlice.empty:\n",
    "#     bufdate = timedelta(minutes=1)\n",
    "#     bufdate = datethen + bufdate\n",
    "#     # print(bufdate)\n",
    "#     dates = pd.date_range(datethen, bufdate, freq = \"S\")\n",
    "#     # print(dates)\n",
    "#     thenSlice = nowSlice.loc[nowSlice.belief_horizon_in_sec.isin(dates)]\n",
    "#     print(thenSlice)\n"
   ],
   "metadata": {
    "collapsed": false
   }
  },
  {
   "cell_type": "code",
   "execution_count": 228,
   "outputs": [],
   "source": [
    "datenow = \"2020-11-02 10:00:00\"\n",
    "datethen = \"2020-11-02 11:49:21\"\n",
    "# now = \"2020-11-02 10:00:00\"\n",
    "# if now:\n",
    "#     print(now)"
   ],
   "metadata": {
    "collapsed": false
   }
  },
  {
   "cell_type": "code",
   "execution_count": 255,
   "outputs": [],
   "source": [
    "def getForcasts(now, then, df):\n",
    "    \"\"\"\n",
    "    eturn the three kinds of forecasts that are most relevant for \"then\", given the knowledge you can assume was available at \"now\"\n",
    "    :param now: type datetime, only thing we can assume to have format '%Y/%m/%d %H:%M:%S', \"2020/11/02 10:33:33\"\n",
    "    :param then: type datetime, only thing we want\n",
    "    :param df: type dataframe pandas,\n",
    "    :return: temp, irri, wind\n",
    "    \"\"\"\n",
    "    # datenow = now\n",
    "    now = datetime.strptime(now, '%Y-%m-%d %H:%M:%S')\n",
    "    nowSlice = df.loc[(df.event_start <= now)]\n",
    "    # nowSlice\n",
    "    # datethen = then\n",
    "    then = datetime.strptime(then, '%Y-%m-%d %H:%M:%S')\n",
    "    thenSlice = nowSlice.loc[nowSlice.belief_horizon_in_sec == then]\n",
    "    if thenSlice.empty:\n",
    "        bufdate = timedelta(seconds=30)\n",
    "        end = now + bufdate\n",
    "        start = now - bufdate\n",
    "        dates = pd.date_range(start, end, freq=\"S\")\n",
    "        thenSlice = nowSlice.loc[nowSlice.belief_horizon_in_sec.isin(dates)]\n",
    "    # irradiance = thenSlice.loc[thenSlice.sensor == \"irradiance\"]\n",
    "    # wind = thenSlice.loc[thenSlice.sensor == \"wind speed\"]\n",
    "    # tem = thenSlice.loc[thenSlice.sensor == \"temperature\"]\n",
    "    # output = [i for i in zip(thenSlice.sensor, thenSlice.event_value)]\n",
    "    output =  [i[0] + \": \" + str(i[1]) for i in zip(thenSlice.sensor, thenSlice.event_value)]\n",
    "    return output"
   ],
   "metadata": {
    "collapsed": false
   }
  },
  {
   "cell_type": "code",
   "execution_count": 256,
   "outputs": [
    {
     "name": "stdout",
     "output_type": "stream",
     "text": [
      "['temperature: 17.05', 'irradiance: 45.240923374577', 'wind speed: 10.63']\n"
     ]
    }
   ],
   "source": [
    "print(getForcasts(datenow, datethen, df))"
   ],
   "metadata": {
    "collapsed": false
   }
  },
  {
   "cell_type": "markdown",
   "source": [
    "Given one parameter \"now\", a datetime, return three booleans, telling us if the next day (the one after \"now\") is expected to be \"warm\", \"sunny\" and \"windy\". Again, use only the knowledge from the dataset which you can assume was available at \"now\". Use three internal thresholds to determine the answer and you can also decide if the threshold (likely) being breached once is already enough for the boolean to be true.\n",
    "\n"
   ],
   "metadata": {
    "collapsed": false
   }
  },
  {
   "cell_type": "code",
   "execution_count": 231,
   "outputs": [
    {
     "data": {
      "text/plain": "               event_start belief_horizon_in_sec  event_value       sensor  \\\n0      2020-11-01 00:00:00   2020-10-31 23:49:23        11.36  temperature   \n1      2020-11-01 00:00:00   2020-11-01 09:49:22        11.06  temperature   \n2      2020-11-01 00:00:00   2020-11-01 10:49:20        11.41  temperature   \n3      2020-11-01 00:00:00   2020-11-01 07:49:22        11.25  temperature   \n4      2020-11-01 00:00:00   2020-11-01 00:49:29        11.39  temperature   \n...                    ...                   ...          ...          ...   \n915236 2021-07-01 20:00:00   2021-07-01 23:55:00         2.99   wind speed   \n915237 2021-07-01 20:00:00   2021-07-01 22:55:00         2.99   wind speed   \n915238 2021-07-01 20:00:00   2021-07-01 21:55:00         2.99   wind speed   \n915239 2021-07-01 20:00:00   2021-07-01 20:56:00         2.88   wind speed   \n915240 2021-07-01 20:00:00   2021-07-01 19:55:00         2.88   wind speed   \n\n       unit  \n0        °C  \n1        °C  \n2        °C  \n3        °C  \n4        °C  \n...     ...  \n915236  m/s  \n915237  m/s  \n915238  m/s  \n915239  m/s  \n915240  m/s  \n\n[248981 rows x 5 columns]",
      "text/html": "<div>\n<style scoped>\n    .dataframe tbody tr th:only-of-type {\n        vertical-align: middle;\n    }\n\n    .dataframe tbody tr th {\n        vertical-align: top;\n    }\n\n    .dataframe thead th {\n        text-align: right;\n    }\n</style>\n<table border=\"1\" class=\"dataframe\">\n  <thead>\n    <tr style=\"text-align: right;\">\n      <th></th>\n      <th>event_start</th>\n      <th>belief_horizon_in_sec</th>\n      <th>event_value</th>\n      <th>sensor</th>\n      <th>unit</th>\n    </tr>\n  </thead>\n  <tbody>\n    <tr>\n      <th>0</th>\n      <td>2020-11-01 00:00:00</td>\n      <td>2020-10-31 23:49:23</td>\n      <td>11.36</td>\n      <td>temperature</td>\n      <td>°C</td>\n    </tr>\n    <tr>\n      <th>1</th>\n      <td>2020-11-01 00:00:00</td>\n      <td>2020-11-01 09:49:22</td>\n      <td>11.06</td>\n      <td>temperature</td>\n      <td>°C</td>\n    </tr>\n    <tr>\n      <th>2</th>\n      <td>2020-11-01 00:00:00</td>\n      <td>2020-11-01 10:49:20</td>\n      <td>11.41</td>\n      <td>temperature</td>\n      <td>°C</td>\n    </tr>\n    <tr>\n      <th>3</th>\n      <td>2020-11-01 00:00:00</td>\n      <td>2020-11-01 07:49:22</td>\n      <td>11.25</td>\n      <td>temperature</td>\n      <td>°C</td>\n    </tr>\n    <tr>\n      <th>4</th>\n      <td>2020-11-01 00:00:00</td>\n      <td>2020-11-01 00:49:29</td>\n      <td>11.39</td>\n      <td>temperature</td>\n      <td>°C</td>\n    </tr>\n    <tr>\n      <th>...</th>\n      <td>...</td>\n      <td>...</td>\n      <td>...</td>\n      <td>...</td>\n      <td>...</td>\n    </tr>\n    <tr>\n      <th>915236</th>\n      <td>2021-07-01 20:00:00</td>\n      <td>2021-07-01 23:55:00</td>\n      <td>2.99</td>\n      <td>wind speed</td>\n      <td>m/s</td>\n    </tr>\n    <tr>\n      <th>915237</th>\n      <td>2021-07-01 20:00:00</td>\n      <td>2021-07-01 22:55:00</td>\n      <td>2.99</td>\n      <td>wind speed</td>\n      <td>m/s</td>\n    </tr>\n    <tr>\n      <th>915238</th>\n      <td>2021-07-01 20:00:00</td>\n      <td>2021-07-01 21:55:00</td>\n      <td>2.99</td>\n      <td>wind speed</td>\n      <td>m/s</td>\n    </tr>\n    <tr>\n      <th>915239</th>\n      <td>2021-07-01 20:00:00</td>\n      <td>2021-07-01 20:56:00</td>\n      <td>2.88</td>\n      <td>wind speed</td>\n      <td>m/s</td>\n    </tr>\n    <tr>\n      <th>915240</th>\n      <td>2021-07-01 20:00:00</td>\n      <td>2021-07-01 19:55:00</td>\n      <td>2.88</td>\n      <td>wind speed</td>\n      <td>m/s</td>\n    </tr>\n  </tbody>\n</table>\n<p>248981 rows × 5 columns</p>\n</div>"
     },
     "execution_count": 231,
     "metadata": {},
     "output_type": "execute_result"
    }
   ],
   "source": [
    "datenow = \"2021-07-01 20:00:00\"\n",
    "datenow = datetime.strptime(datenow, '%Y-%m-%d %H:%M:%S')\n",
    "nowSlice = df.loc[(df.event_start <= datenow)]\n",
    "nowSlice"
   ],
   "metadata": {
    "collapsed": false
   }
  },
  {
   "cell_type": "code",
   "execution_count": 232,
   "outputs": [
    {
     "name": "stdout",
     "output_type": "stream",
     "text": [
      "2021-07-02\n",
      "Here                event_start belief_horizon_in_sec  event_value       sensor  \\\n",
      "95233  2021-06-30 02:00:00   2021-07-02 00:53:00        13.79  temperature   \n",
      "95281  2021-06-30 03:00:00   2021-07-02 01:54:00        13.62  temperature   \n",
      "95282  2021-06-30 03:00:00   2021-07-02 00:55:00        13.62  temperature   \n",
      "95329  2021-06-30 04:00:00   2021-07-02 02:55:00        13.62  temperature   \n",
      "95330  2021-06-30 04:00:00   2021-07-02 01:54:00        13.62  temperature   \n",
      "...                    ...                   ...          ...          ...   \n",
      "915231 2021-07-01 20:00:00   2021-07-02 04:55:00         2.84   wind speed   \n",
      "915232 2021-07-01 20:00:00   2021-07-02 03:55:00         2.84   wind speed   \n",
      "915233 2021-07-01 20:00:00   2021-07-02 02:55:00         2.99   wind speed   \n",
      "915234 2021-07-01 20:00:00   2021-07-02 01:55:00         2.99   wind speed   \n",
      "915235 2021-07-01 20:00:00   2021-07-02 00:55:00         2.99   wind speed   \n",
      "\n",
      "       unit  \n",
      "95233    °C  \n",
      "95281    °C  \n",
      "95282    °C  \n",
      "95329    °C  \n",
      "95330    °C  \n",
      "...     ...  \n",
      "915231  m/s  \n",
      "915232  m/s  \n",
      "915233  m/s  \n",
      "915234  m/s  \n",
      "915235  m/s  \n",
      "\n",
      "[2268 rows x 5 columns]\n"
     ]
    }
   ],
   "source": [
    "## get tomorrow\n",
    "oneDay = timedelta(days=1)\n",
    "tomor = datenow + oneDay\n",
    "# aftertomor = tomor + oneDay\n",
    "print(tomor.date())\n",
    "# tomorSlice = nowSlice.loc[(nowSlice.belief_horizon_in_sec >= tomor.date()) and (nowSlice.belief_horizon_in_sec >= aftertomor.date())]\n",
    "tomorSlice = nowSlice.loc[nowSlice.belief_horizon_in_sec.dt.date == tomor.date()]\n",
    "print(\"Here\", tomorSlice)\n",
    "\n"
   ],
   "metadata": {
    "collapsed": false
   }
  },
  {
   "cell_type": "code",
   "execution_count": 233,
   "outputs": [],
   "source": [
    "dfIr = tomorSlice.loc[df[\"sensor\"] == \"irradiance\"]\n",
    "dfTem = tomorSlice.loc[df[\"sensor\"] == \"temperature\"]\n",
    "dfWind = tomorSlice.loc[df[\"sensor\"] == \"wind speed\"]"
   ],
   "metadata": {
    "collapsed": false
   }
  },
  {
   "cell_type": "markdown",
   "source": [
    "If the mean of wind (sustained) speed is more than 11 m\\s then it is windy\n",
    "\n",
    "After light investigation more than 100 irradiance is considered sunny.\n",
    "\n",
    "An average of more than 20 degrees C is considered warm"
   ],
   "metadata": {
    "collapsed": false
   }
  },
  {
   "cell_type": "code",
   "execution_count": 234,
   "outputs": [
    {
     "data": {
      "text/plain": "False"
     },
     "execution_count": 234,
     "metadata": {},
     "output_type": "execute_result"
    }
   ],
   "source": [
    "windy = True if dfWind.event_value.mean() >= 11 else False\n",
    "windy"
   ],
   "metadata": {
    "collapsed": false
   }
  },
  {
   "cell_type": "code",
   "execution_count": 235,
   "outputs": [
    {
     "data": {
      "text/plain": "15.58056878306879"
     },
     "execution_count": 235,
     "metadata": {},
     "output_type": "execute_result"
    }
   ],
   "source": [
    "dfTem.event_value.mean()"
   ],
   "metadata": {
    "collapsed": false
   }
  },
  {
   "cell_type": "code",
   "execution_count": 236,
   "outputs": [],
   "source": [
    "def getTomorrow(now, df):\n",
    "    \"\"\"\n",
    "    :param now: string in this format '%Y-%m-%d %H:%M:%S'\n",
    "    :param df: dateset given\n",
    "    :return: a list of three values or printing no information for tomorrow try again warm, sunny, windy\n",
    "    \"\"\"\n",
    "    now = datetime.strptime(now, '%Y-%m-%d %H:%M:%S')\n",
    "    nowSlice = df.loc[(df.event_start <= now)]\n",
    "    oneDay = timedelta(days=1)\n",
    "    tomor = now + oneDay\n",
    "    tomorSlice = nowSlice.loc[nowSlice.belief_horizon_in_sec.dt.date == tomor.date()]\n",
    "    if tomorSlice.empty:\n",
    "        print(\"For the date given we do not have information please try another date\")\n",
    "    dfIr = tomorSlice.loc[df[\"sensor\"] == \"irradiance\"]\n",
    "    dfTem = tomorSlice.loc[df[\"sensor\"] == \"temperature\"]\n",
    "    dfWind = tomorSlice.loc[df[\"sensor\"] == \"wind speed\"]\n",
    "    warm = True if dfTem.event_value.mean() >= 20 else False\n",
    "    sunny = True if dfIr.event_value.max() > 100 else False\n",
    "    windy = True if dfWind.event_value.mean() >= 11 else False\n",
    "    return warm, sunny, windy\n"
   ],
   "metadata": {
    "collapsed": false
   }
  },
  {
   "cell_type": "code",
   "execution_count": 237,
   "outputs": [
    {
     "name": "stdout",
     "output_type": "stream",
     "text": [
      "warm: False \n",
      "sunny: True \n",
      "windy: False\n"
     ]
    }
   ],
   "source": [
    "datenow = \"2021-07-01 20:00:00\"\n",
    "warm, sunny, windy = getTomorrow(datenow, df)\n",
    "print(\"warm:\", warm, \"\\nsunny:\", sunny, \"\\nwindy:\", windy)"
   ],
   "metadata": {
    "collapsed": false
   }
  },
  {
   "cell_type": "code",
   "execution_count": 237,
   "outputs": [],
   "source": [],
   "metadata": {
    "collapsed": false
   }
  }
 ],
 "metadata": {
  "kernelspec": {
   "display_name": "Python 3",
   "language": "python",
   "name": "python3"
  },
  "language_info": {
   "codemirror_mode": {
    "name": "ipython",
    "version": 2
   },
   "file_extension": ".py",
   "mimetype": "text/x-python",
   "name": "python",
   "nbconvert_exporter": "python",
   "pygments_lexer": "ipython2",
   "version": "2.7.6"
  }
 },
 "nbformat": 4,
 "nbformat_minor": 0
}
